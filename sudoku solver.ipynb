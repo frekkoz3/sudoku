{
 "cells": [
  {
   "cell_type": "markdown",
   "metadata": {},
   "source": [
    "# SUDOKU SOLVER\n",
    "\n",
    "In questo notebook andremo a implementare due principali cose:\n",
    "1. Una semplice gui per visualizzare il gioco del sudoku\n",
    "2. Un solver che sfrutti metaeuristiche per risolvere il sudoku\n",
    "\n",
    "Quali metaeuristiche andiamo a sviluppare?\n",
    "\n",
    "La prima, una soluzione genetica, la seconda, un approccio del tipo simulated annealing.\n",
    "\n",
    "Cofronteremo poi i risultati.\n",
    "\n",
    "Ho aggiunto anche una versione che usa la programmazione lineare per risolvere i sudoku."
   ]
  },
  {
   "cell_type": "code",
   "execution_count": 1,
   "metadata": {},
   "outputs": [],
   "source": [
    "# i think we would use this so i import them to be sure\n",
    "import numpy as np\n",
    "import random\n",
    "import math"
   ]
  },
  {
   "cell_type": "markdown",
   "metadata": {},
   "source": [
    "Per i sudoku usiamo dei dati trovati su kaggle, così da semplificarci la vita. Lascio qui il link https://www.kaggle.com/datasets/bryanpark/sudoku?resource=download .\n",
    "\n",
    "Ho aggiunto un limite al caricamento poiché per il nostro obiettivo, attualmente, non occorrono un milione di esempi."
   ]
  },
  {
   "cell_type": "code",
   "execution_count": 2,
   "metadata": {},
   "outputs": [],
   "source": [
    "limit = 1000\n",
    "quizzes = np.zeros((limit, 81), np.int32)\n",
    "solutions = np.zeros((limit, 81), np.int32)\n",
    "for i, line in enumerate(open('sudoku.csv', 'r').read().splitlines()[1:limit]):\n",
    "    quiz, solution = line.split(\",\")\n",
    "    for j, q_s in enumerate(zip(quiz, solution)):\n",
    "        q, s = q_s\n",
    "        quizzes[i, j] = q\n",
    "        solutions[i, j] = s\n",
    "quizzes = quizzes.reshape((-1, 9, 9))\n",
    "solutions = solutions.reshape((-1, 9, 9))"
   ]
  },
  {
   "cell_type": "markdown",
   "metadata": {},
   "source": [
    "Qui poi dedicheremo una parte a come visualizzare in maniera carina il sudoku. Penso userò Pygame."
   ]
  },
  {
   "cell_type": "code",
   "execution_count": 3,
   "metadata": {},
   "outputs": [
    {
     "name": "stdout",
     "output_type": "stream",
     "text": [
      "pygame 2.5.2 (SDL 2.28.3, Python 3.12.3)\n",
      "Hello from the pygame community. https://www.pygame.org/contribute.html\n"
     ]
    }
   ],
   "source": [
    "import pygame \n",
    "def sudoku_grid_representation(sudoku, quiz, solution):\n",
    "    pygame.init()\n",
    "    \n",
    "    WHITE = (255, 255, 255)\n",
    "    BLACK = (0, 0, 0)\n",
    "    BLUE = (0, 0, 255)\n",
    "    RED = (255, 0, 0)\n",
    "\n",
    "    WINDOW_SIZE = 540\n",
    "    GRID_SIZE = WINDOW_SIZE // 9\n",
    "    LINE = WINDOW_SIZE // 3\n",
    "\n",
    "    screen = pygame.display.set_mode((WINDOW_SIZE, WINDOW_SIZE))\n",
    "    pygame.display.set_caption(\"Sudoku\")\n",
    "\n",
    "    def draw_grid():\n",
    "        for row in range(9):\n",
    "            for col in range(9):\n",
    "                if quiz[row][col] != 0:\n",
    "                    text = font.render(str(sudoku[row][col]), True, BLUE)\n",
    "                    screen.blit(text, (col * GRID_SIZE + GRID_SIZE//3, row * GRID_SIZE + GRID_SIZE//3))\n",
    "                elif sudoku[row][col] == solution[row, col]:\n",
    "                    text = font.render(str(sudoku[row][col]), True, BLACK)\n",
    "                    screen.blit(text, (col * GRID_SIZE + GRID_SIZE//3, row * GRID_SIZE + GRID_SIZE//3))\n",
    "                else:\n",
    "                    text = font.render(str(sudoku[row][col]), True, RED)\n",
    "                    screen.blit(text, (col * GRID_SIZE + GRID_SIZE//3, row * GRID_SIZE + GRID_SIZE//3))\n",
    "        for i in range (2):\n",
    "            pygame.draw.line(screen, BLACK, (0, LINE * (i+1)),  (WINDOW_SIZE, LINE * (i+1)) )\n",
    "            pygame.draw.line(screen, BLACK, (LINE * (i+1), 0), (LINE * (i+1), WINDOW_SIZE))\n",
    "\n",
    "    font = pygame.font.Font(None, 36)\n",
    "    running = True\n",
    "    while running:\n",
    "        for event in pygame.event.get():\n",
    "            if event.type == pygame.QUIT:\n",
    "                running = False\n",
    "                pygame.quit()\n",
    "\n",
    "        screen.fill(WHITE)\n",
    "        draw_grid()\n",
    "        \n",
    "        pygame.display.flip()"
   ]
  },
  {
   "cell_type": "markdown",
   "metadata": {},
   "source": [
    "Andiamo a vedere come costruire delle soluzioni."
   ]
  },
  {
   "cell_type": "markdown",
   "metadata": {},
   "source": [
    "Questa funzione trasforma un 9x9 in un 3x3x3x3 che rappresenta le celle."
   ]
  },
  {
   "cell_type": "code",
   "execution_count": 4,
   "metadata": {},
   "outputs": [],
   "source": [
    "def quiz_to_cells(quiz):\n",
    "    cells = np.zeros((3, 3, 3, 3), np.int32)\n",
    "    for i in range (3):\n",
    "        for j in range (3):\n",
    "            cells[i, j] = quiz[3*i:3*i+3, 3*j:3*j+3]\n",
    "    return cells"
   ]
  },
  {
   "cell_type": "markdown",
   "metadata": {},
   "source": [
    "Questo fa l'operazione inversa."
   ]
  },
  {
   "cell_type": "code",
   "execution_count": 5,
   "metadata": {},
   "outputs": [],
   "source": [
    "def cells_to_quiz(cells):\n",
    "    quiz = np.zeros((9, 9), np.int32)\n",
    "    for i in range (3):\n",
    "        for j in range (3):\n",
    "            quiz[3*i:3*i+3, 3*j:3*j+3] = cells[i, j]\n",
    "    return quiz"
   ]
  },
  {
   "cell_type": "markdown",
   "metadata": {},
   "source": [
    "Questa funzione completa (randomicamente) una cella."
   ]
  },
  {
   "cell_type": "code",
   "execution_count": 6,
   "metadata": {},
   "outputs": [],
   "source": [
    "def complete_cell(cell):\n",
    "    cell_candidate = np.array(cell)\n",
    "    cell_candidate = cell_candidate.reshape((9))\n",
    "    missing_values = [1, 2, 3, 4, 5, 6, 7, 8, 9]\n",
    "    for i in range (9):\n",
    "        if cell_candidate[i] != 0:\n",
    "            missing_values.remove(cell_candidate[i])\n",
    "    random.shuffle(missing_values)\n",
    "    for i in range (9):\n",
    "        if cell_candidate[i] == 0 :\n",
    "            cell_candidate[i] = missing_values.pop()\n",
    "    return cell_candidate.reshape((3, 3))"
   ]
  },
  {
   "cell_type": "markdown",
   "metadata": {},
   "source": [
    "Questa completa (randomicamente) un quiz."
   ]
  },
  {
   "cell_type": "code",
   "execution_count": 7,
   "metadata": {},
   "outputs": [],
   "source": [
    "def compute_candidate(quiz):\n",
    "    cells = quiz_to_cells(quiz)\n",
    "    candidate_cells = np.zeros_like(cells)\n",
    "    ga_solutions = [np.array(9)]\n",
    "    for i, cell in enumerate(cells):\n",
    "        for j, c in enumerate(cell):\n",
    "            candidate_cells[i, j] = complete_cell(c)\n",
    "    return candidate_cells"
   ]
  },
  {
   "cell_type": "code",
   "execution_count": 8,
   "metadata": {},
   "outputs": [],
   "source": [
    "quiz = quizzes[0]\n",
    "candidate = compute_candidate(quiz)"
   ]
  },
  {
   "cell_type": "markdown",
   "metadata": {},
   "source": [
    "Scriviamo una funzione obiettivo.\n",
    "La funzione obiettivo è nientemeno che: minimizzare la somma degli indicatori di valori unici mancanti lungo le righe e le colonne.\n",
    "\n",
    "*Esempio:*\n",
    "\n",
    "| | | | |valori unici mancanti |\n",
    "|- |- |- |- |- |\n",
    "|1 | 2| 1 | 2| **2**|\n",
    "|3 | 4 | 4 | 3 | **2**|\n",
    "|2 | 4 |  2| 3| **1**|\n",
    "|1| 3 | 1 | 4| **1**|\n",
    "|**1**| **1**|**1**|**1**| **<- valori unici mancanti** |\n",
    "\n",
    "in questo caso abbiamo un totale di **10** valori unici mancanti.\n",
    "\n",
    "La stessa funzione obiettivo può essere vista come minimizzare la somma degli indicatori di valori non unici lungo le righe e le colonne."
   ]
  },
  {
   "cell_type": "code",
   "execution_count": 9,
   "metadata": {},
   "outputs": [],
   "source": [
    "def same_element(vector):\n",
    "    s = 0\n",
    "    for i in range (1, 10):\n",
    "        if i not in vector:\n",
    "            s = s + 1\n",
    "    return s"
   ]
  },
  {
   "cell_type": "code",
   "execution_count": 10,
   "metadata": {},
   "outputs": [],
   "source": [
    "def object_function(candidate):\n",
    "    rows = cells_to_quiz(candidate)\n",
    "    cols = rows.T\n",
    "    er = sum(np.array([same_element(r) for r in rows]))\n",
    "    ec = sum(np.array([same_element(c) for c in cols]))\n",
    "    return er + ec"
   ]
  },
  {
   "cell_type": "markdown",
   "metadata": {},
   "source": [
    "### GA APPROACH\n",
    "\n",
    "Partiamo con l'approccio genetico che è quello con cui siamo più ferrati."
   ]
  },
  {
   "cell_type": "markdown",
   "metadata": {},
   "source": [
    "Qui definiamo un crossover probabilistico. I crossover si eseguono sulle singole celle 3x3."
   ]
  },
  {
   "cell_type": "code",
   "execution_count": 11,
   "metadata": {},
   "outputs": [],
   "source": [
    "def p_crossover(a, b, p = 0.5):\n",
    "    crossover = np.zeros_like(a)\n",
    "    for i in range (3):\n",
    "        for j in range (3):\n",
    "            crossover[i, j] = a[i, j] if random.uniform(0, 1) > p else b[i, j]\n",
    "    return crossover"
   ]
  },
  {
   "cell_type": "markdown",
   "metadata": {},
   "source": [
    "Tipica Tournament Selection."
   ]
  },
  {
   "cell_type": "code",
   "execution_count": 12,
   "metadata": {},
   "outputs": [],
   "source": [
    "def tournament_selection(pop, k = 3):\n",
    "    tournament = random.sample(pop, k)\n",
    "    tournament.sort(key = object_function, reverse = False)\n",
    "    return tournament[0]"
   ]
  },
  {
   "cell_type": "markdown",
   "metadata": {},
   "source": [
    "Funzione d'appoggio per prendere degli indici a caso tra (0, 0) e (2, 2)"
   ]
  },
  {
   "cell_type": "code",
   "execution_count": 13,
   "metadata": {},
   "outputs": [],
   "source": [
    "def random_index():\n",
    "    k = random.randrange(0, 3)\n",
    "    z = random.randrange(0, 3)\n",
    "    return k, z"
   ]
  },
  {
   "cell_type": "markdown",
   "metadata": {},
   "source": [
    "Mutazione per swap all'interno delle celle (chiaramente probabilistica)."
   ]
  },
  {
   "cell_type": "code",
   "execution_count": 14,
   "metadata": {},
   "outputs": [],
   "source": [
    "def mutation(sol, quiz, mp = 0.9):\n",
    "    map_quiz = quiz_to_cells(quiz)\n",
    "    for i in range (3):\n",
    "        for j in range (3):\n",
    "            u = random.uniform(0, 1)\n",
    "            if u < mp:\n",
    "                \n",
    "                k, z = random_index()                    \n",
    "                while map_quiz[i, j, k, z] != 0:\n",
    "                    k, z = random_index()\n",
    "                w, v = random_index()\n",
    "                while map_quiz[i, j, w, v] != 0:\n",
    "                    w, v = random_index()\n",
    "            \n",
    "                t = sol[i, j, k, z]\n",
    "                sol[i, j, k, z] = sol[i, j, w, v]\n",
    "                sol[i, j, w, v] = t\n",
    "    return sol          "
   ]
  },
  {
   "cell_type": "markdown",
   "metadata": {},
   "source": [
    "Assembliamo il tutto."
   ]
  },
  {
   "cell_type": "code",
   "execution_count": 15,
   "metadata": {},
   "outputs": [],
   "source": [
    "def ga_sudoku_solver(pop, quiz, n_gen = 1000, eli = True, mp = 0.1, k = 3):\n",
    "    pop.sort(key = object_function)\n",
    "    sol = pop[0]\n",
    "\n",
    "    while n_gen > 0 and object_function(sol) != 0:\n",
    "        n_gen -= 1\n",
    "        new_pop = []\n",
    "        s = 0\n",
    "        if eli == True:\n",
    "            for i in range (k):\n",
    "                new_pop.append(mutation(pop[i], quiz, mp))\n",
    "            s = k\n",
    "        while s < len(pop):\n",
    "            parent_a = tournament_selection(pop, k)\n",
    "            parent_b = tournament_selection(pop, k)\n",
    "            son = p_crossover(parent_a, parent_b)\n",
    "            son = mutation(son, quiz, mp)\n",
    "            new_pop.append(son)\n",
    "            s += 1\n",
    "        pop = new_pop\n",
    "        pop.sort(key = object_function)\n",
    "        sol = pop[0]\n",
    "    return sol       "
   ]
  },
  {
   "cell_type": "markdown",
   "metadata": {},
   "source": [
    "Qua scriviamo una versione che permetta di visualizzare man mano ciò che accade."
   ]
  },
  {
   "cell_type": "code",
   "execution_count": 16,
   "metadata": {},
   "outputs": [],
   "source": [
    "def visual_ga_sudoku_solver(pop, quiz, solution, n_gen = 1000, eli = True, mp = 0.1, k = 3):\n",
    "    pygame.init()\n",
    "\n",
    "    WHITE = (255, 255, 255)\n",
    "    BLACK = (0, 0, 0)\n",
    "    BLUE = (0, 0, 255)\n",
    "    RED = (255, 0, 0)\n",
    "\n",
    "    WINDOW_SIZE = 540\n",
    "    GRID_SIZE = WINDOW_SIZE // 9\n",
    "    LINE = WINDOW_SIZE // 3\n",
    "\n",
    "    screen = pygame.display.set_mode((WINDOW_SIZE, WINDOW_SIZE))\n",
    "    pygame.display.set_caption(\"Sudoku\")\n",
    "\n",
    "    def draw_grid(sudoku, quiz, solution):\n",
    "        for row in range(9):\n",
    "            for col in range(9):\n",
    "                if quiz[row][col] != 0:\n",
    "                    text = font.render(str(sudoku[row][col]), True, BLUE)\n",
    "                    screen.blit(text, (col * GRID_SIZE + GRID_SIZE//3, row * GRID_SIZE + GRID_SIZE//3))\n",
    "                elif sudoku[row][col] == solution[row, col]:\n",
    "                    text = font.render(str(sudoku[row][col]), True, BLACK)\n",
    "                    screen.blit(text, (col * GRID_SIZE + GRID_SIZE//3, row * GRID_SIZE + GRID_SIZE//3))\n",
    "                else:\n",
    "                    text = font.render(str(sudoku[row][col]), True, RED)\n",
    "                    screen.blit(text, (col * GRID_SIZE + GRID_SIZE//3, row * GRID_SIZE + GRID_SIZE//3))\n",
    "        for i in range (2):\n",
    "            pygame.draw.line(screen, BLACK, (0, LINE * (i+1)),  (WINDOW_SIZE, LINE * (i+1)) )\n",
    "            pygame.draw.line(screen, BLACK, (LINE * (i+1), 0), (LINE * (i+1), WINDOW_SIZE))\n",
    "\n",
    "    font = pygame.font.Font(None, 36)\n",
    "    \n",
    "    pop.sort(key = object_function)\n",
    "    sol = pop[0]\n",
    "    while n_gen > 0 and object_function(sol) != 0:\n",
    "        n_gen -= 1\n",
    "        new_pop = []\n",
    "        s = 0\n",
    "        if eli == True:\n",
    "            for i in range (k):\n",
    "                new_pop.append(mutation(pop[i], quiz, mp))\n",
    "            s = k\n",
    "        while s < len(pop):\n",
    "            parent_a = tournament_selection(pop, k)\n",
    "            parent_b = tournament_selection(pop, k)\n",
    "            son = p_crossover(parent_a, parent_b)\n",
    "            son = mutation(son, quiz, mp)\n",
    "            new_pop.append(son)\n",
    "            s += 1\n",
    "        pop = new_pop\n",
    "        pop.sort(key = object_function)\n",
    "        sol = pop[0]\n",
    "        \n",
    "        for event in pygame.event.get():\n",
    "            if event.type == pygame.QUIT:\n",
    "                running = False\n",
    "                pygame.quit()\n",
    "\n",
    "        screen.fill(WHITE)\n",
    "        draw_grid(cells_to_quiz(sol), quiz, solution)\n",
    "        \n",
    "        pygame.display.flip()\n",
    "    pygame.quit()\n",
    "    return sol"
   ]
  },
  {
   "cell_type": "markdown",
   "metadata": {},
   "source": [
    "Prendiamo uno dei possibili quiz a caso tra quelli caricati e cominciamo a vedere i risultati."
   ]
  },
  {
   "cell_type": "code",
   "execution_count": 17,
   "metadata": {},
   "outputs": [],
   "source": [
    "r = random.randrange(0, limit)\n",
    "quiz = quizzes[r]\n",
    "solution = solutions[r]\n",
    "POP = 100\n",
    "population = [compute_candidate(quiz) for i in range (POP)]"
   ]
  },
  {
   "cell_type": "code",
   "execution_count": 18,
   "metadata": {},
   "outputs": [],
   "source": [
    "#sol = visual_ga_sudoku_solver(population, quiz, solution, mp = 0.1)\n",
    "#sudoku_grid_representation(cells_to_quiz(sol), quiz, solution)"
   ]
  },
  {
   "cell_type": "code",
   "execution_count": 19,
   "metadata": {},
   "outputs": [],
   "source": [
    "#sudoku_grid_representation(quiz, quiz, solution)"
   ]
  },
  {
   "cell_type": "code",
   "execution_count": 20,
   "metadata": {},
   "outputs": [],
   "source": [
    "#sol = ga_sudoku_solver(population, quizzes[r], n_gen=1000, mp = 0.1)\n",
    "#print(object_function(sol))"
   ]
  },
  {
   "cell_type": "markdown",
   "metadata": {},
   "source": [
    "### LINEAR PROGRAMMING APPROACH\n",
    "\n",
    "Ora, mi è venuta questa idea e quindi ho detto \"Massì, perché non provarci\" e quindi eccomi qui, a scrivere un approccio di programmazione lineare per risolvere il sudoku."
   ]
  },
  {
   "cell_type": "code",
   "execution_count": 21,
   "metadata": {},
   "outputs": [],
   "source": [
    "import gurobipy as gp\n",
    "from gurobipy import GRB"
   ]
  },
  {
   "cell_type": "code",
   "execution_count": 22,
   "metadata": {},
   "outputs": [
    {
     "name": "stdout",
     "output_type": "stream",
     "text": [
      "Set parameter Username\n",
      "Academic license - for non-commercial use only - expires 2025-06-26\n"
     ]
    }
   ],
   "source": [
    "sudoku_model = gp.Model()"
   ]
  },
  {
   "cell_type": "code",
   "execution_count": 23,
   "metadata": {},
   "outputs": [],
   "source": [
    "sudoku_grid = sudoku_model.addMVar((9, 9, 9), vtype = GRB.BINARY)"
   ]
  },
  {
   "cell_type": "code",
   "execution_count": 24,
   "metadata": {},
   "outputs": [],
   "source": [
    "sudoku_model.update()"
   ]
  },
  {
   "cell_type": "markdown",
   "metadata": {},
   "source": [
    "Vincolo sull'unicità di ogni cella."
   ]
  },
  {
   "cell_type": "code",
   "execution_count": 25,
   "metadata": {},
   "outputs": [],
   "source": [
    "sudoku_model.addConstrs(gp.quicksum(sudoku_grid[l, i, j] for l in range (9)) == 1 for j in range (9) for i in range (9))\n",
    "sudoku_model.update()"
   ]
  },
  {
   "cell_type": "markdown",
   "metadata": {},
   "source": [
    "Vincolo sulle righe con tutti gli elementi diversi."
   ]
  },
  {
   "cell_type": "code",
   "execution_count": 26,
   "metadata": {},
   "outputs": [],
   "source": [
    "sudoku_model.addConstrs(gp.quicksum(sudoku_grid[l, i, j] for j in range (9)) == 1 for l in range (9) for i in range (9))\n",
    "sudoku_model.update()"
   ]
  },
  {
   "cell_type": "markdown",
   "metadata": {},
   "source": [
    "Vincolo sulle colonne con tutti gli elementi diversi."
   ]
  },
  {
   "cell_type": "code",
   "execution_count": 27,
   "metadata": {},
   "outputs": [],
   "source": [
    "sudoku_model.addConstrs(gp.quicksum(sudoku_grid[l, i, j] for i in range (9)) == 1 for j in range (9) for l in range (9))\n",
    "sudoku_model.update()"
   ]
  },
  {
   "cell_type": "markdown",
   "metadata": {},
   "source": [
    "Vincolo su tutte le celle con tutti elementi diversi."
   ]
  },
  {
   "cell_type": "code",
   "execution_count": 28,
   "metadata": {},
   "outputs": [],
   "source": [
    "sudoku_model.addConstrs(sum(gp.quicksum(sudoku_grid[l, 3*i:3*i+3, 3*j:3*j+3])) == 1 for l in range (9) for j in range (3) for i in range (3))\n",
    "sudoku_model.update()"
   ]
  },
  {
   "cell_type": "markdown",
   "metadata": {},
   "source": [
    "La funzione obiettivo non esiste poiché ogni soluzione va bene."
   ]
  },
  {
   "cell_type": "code",
   "execution_count": 29,
   "metadata": {},
   "outputs": [],
   "source": [
    "sudoku_model.setObjective(0)"
   ]
  },
  {
   "cell_type": "code",
   "execution_count": 30,
   "metadata": {},
   "outputs": [],
   "source": [
    "sudoku_model.write(\"sudoku_model.mps\")"
   ]
  },
  {
   "cell_type": "markdown",
   "metadata": {},
   "source": [
    "Bisogna ora pensare ad un buon modo per costruire e decostruire una griglia di sudoku. Non è eccessivamente complesso."
   ]
  },
  {
   "cell_type": "markdown",
   "metadata": {},
   "source": [
    "Così de-costruiamo una griglia. Easy."
   ]
  },
  {
   "cell_type": "code",
   "execution_count": 31,
   "metadata": {},
   "outputs": [],
   "source": [
    "def vars_to_sudoku(sudoku_grid):\n",
    "    sudoku = np.zeros((9, 9), np.int32)\n",
    "    for i in range (9):\n",
    "        for j in range (9):\n",
    "            v = 0\n",
    "            for l in range (9):\n",
    "                if sudoku_grid[l, i, j].getAttr(\"X\") == 1:\n",
    "                    v = l + 1\n",
    "            sudoku[i, j] = v\n",
    "    return sudoku"
   ]
  },
  {
   "cell_type": "markdown",
   "metadata": {},
   "source": [
    "In questo modo rendiamo un sudoku una griglia di lower bound."
   ]
  },
  {
   "cell_type": "code",
   "execution_count": 32,
   "metadata": {},
   "outputs": [],
   "source": [
    "def sudoku_to_vars(sudoku):\n",
    "    vars_lower_bound = np.zeros((9, 9, 9), np.int32)\n",
    "    for i in range (9):\n",
    "        for j in range (9):\n",
    "            v = sudoku[i, j]\n",
    "            if v != 0:\n",
    "                vars_lower_bound[v-1, i, j] = 1\n",
    "    return vars_lower_bound"
   ]
  },
  {
   "cell_type": "markdown",
   "metadata": {},
   "source": [
    "**ATTENZIONE**\n",
    "\n",
    "Per poter eseguire tutta questa parte occorre avere una licenza gurobi poiché questo problema prevede 9^3 variabili decisionali e 9^3*9 (primi tre tipi di vincoli) + 81 (vincolo tra celle) + 9^3 vincoli (vincolo per il quiz esatto) e dunque la licenza gratuita non è sufficiente (7371 vincoli > 2000 licenza base)."
   ]
  },
  {
   "cell_type": "markdown",
   "metadata": {},
   "source": [
    "Possiamo semplicemente aggiungerlo ed il gioco è fatto."
   ]
  },
  {
   "cell_type": "code",
   "execution_count": 33,
   "metadata": {},
   "outputs": [
    {
     "name": "stdout",
     "output_type": "stream",
     "text": [
      "Gurobi Optimizer version 11.0.2 build v11.0.2rc0 (win64 - Windows 11.0 (22631.2))\n",
      "\n",
      "CPU model: 11th Gen Intel(R) Core(TM) i3-1115G4 @ 3.00GHz, instruction set [SSE2|AVX|AVX2|AVX512]\n",
      "Thread count: 2 physical cores, 4 logical processors, using up to 4 threads\n",
      "\n",
      "Optimize a model with 1053 rows, 729 columns and 3645 nonzeros\n",
      "Model fingerprint: 0x5f78fff4\n",
      "Variable types: 0 continuous, 729 integer (729 binary)\n",
      "Coefficient statistics:\n",
      "  Matrix range     [1e+00, 1e+00]\n",
      "  Objective range  [0e+00, 0e+00]\n",
      "  Bounds range     [1e+00, 1e+00]\n",
      "  RHS range        [1e+00, 1e+00]\n",
      "Presolve removed 984 rows and 666 columns\n",
      "Presolve time: 0.02s\n",
      "Presolved: 69 rows, 63 columns, 271 nonzeros\n",
      "Variable types: 0 continuous, 63 integer (63 binary)\n",
      "Found heuristic solution: objective 0.0000000\n",
      "\n",
      "Explored 0 nodes (0 simplex iterations) in 0.05 seconds (0.00 work units)\n",
      "Thread count was 4 (of 4 available processors)\n",
      "\n",
      "Solution count 1: 0 \n",
      "\n",
      "Optimal solution found (tolerance 1.00e-04)\n",
      "Best objective 0.000000000000e+00, best bound 0.000000000000e+00, gap 0.0000%\n"
     ]
    }
   ],
   "source": [
    "quiz = np.array([\n",
    "    [4, 0, 0, 0, 0, 0, 3, 0, 7],\n",
    "    [0, 0, 9, 0, 8, 0, 0, 2, 0],\n",
    "    [0, 5, 0, 3, 0, 2, 0, 0, 6],\n",
    "    [6, 9, 0, 7, 0, 0, 0, 5, 0],\n",
    "    [0, 0, 3, 0, 0, 0, 7, 0, 8],\n",
    "    [0, 0, 0, 0, 0, 5, 0, 0, 0],\n",
    "    [0, 0, 0, 0, 0, 6, 0, 3, 0],\n",
    "    [0, 0, 5, 0, 7, 9, 0, 0, 2],\n",
    "    [2, 4, 0, 0, 0, 0, 8, 0, 0]\n",
    "])\n",
    "vars_lower = sudoku_to_vars(quiz)\n",
    "sudoku_model.addConstrs(sudoku_grid[l, i, j] >= vars_lower[l, i, j] for l in range (9) for i in range (9) for j in range (9))\n",
    "sudoku_model.update()\n",
    "sudoku_model.optimize()\n"
   ]
  },
  {
   "cell_type": "code",
   "execution_count": 34,
   "metadata": {},
   "outputs": [
    {
     "ename": "error",
     "evalue": "display Surface quit",
     "output_type": "error",
     "traceback": [
      "\u001b[1;31m---------------------------------------------------------------------------\u001b[0m",
      "\u001b[1;31merror\u001b[0m                                     Traceback (most recent call last)",
      "Cell \u001b[1;32mIn[34], line 2\u001b[0m\n\u001b[0;32m      1\u001b[0m sol \u001b[38;5;241m=\u001b[39m vars_to_sudoku(sudoku_grid)\n\u001b[1;32m----> 2\u001b[0m \u001b[43msudoku_grid_representation\u001b[49m\u001b[43m(\u001b[49m\u001b[43msol\u001b[49m\u001b[43m,\u001b[49m\u001b[43m \u001b[49m\u001b[43mquiz\u001b[49m\u001b[43m,\u001b[49m\u001b[43m \u001b[49m\u001b[43msolution\u001b[49m\u001b[43m)\u001b[49m\n",
      "Cell \u001b[1;32mIn[3], line 41\u001b[0m, in \u001b[0;36msudoku_grid_representation\u001b[1;34m(sudoku, quiz, solution)\u001b[0m\n\u001b[0;32m     38\u001b[0m         running \u001b[38;5;241m=\u001b[39m \u001b[38;5;28;01mFalse\u001b[39;00m\n\u001b[0;32m     39\u001b[0m         pygame\u001b[38;5;241m.\u001b[39mquit()\n\u001b[1;32m---> 41\u001b[0m \u001b[43mscreen\u001b[49m\u001b[38;5;241;43m.\u001b[39;49m\u001b[43mfill\u001b[49m\u001b[43m(\u001b[49m\u001b[43mWHITE\u001b[49m\u001b[43m)\u001b[49m\n\u001b[0;32m     42\u001b[0m draw_grid()\n\u001b[0;32m     44\u001b[0m pygame\u001b[38;5;241m.\u001b[39mdisplay\u001b[38;5;241m.\u001b[39mflip()\n",
      "\u001b[1;31merror\u001b[0m: display Surface quit"
     ]
    }
   ],
   "source": [
    "sol = vars_to_sudoku(sudoku_grid)\n",
    "sudoku_grid_representation(sol, quiz, solution)"
   ]
  },
  {
   "cell_type": "markdown",
   "metadata": {},
   "source": [
    "### SIMULATED ANNEALING APPROACH\n",
    "\n",
    "Ora proviamo con questo approccio. E' completamente nuovo per cui sarà interessante."
   ]
  }
 ],
 "metadata": {
  "kernelspec": {
   "display_name": "Python 3",
   "language": "python",
   "name": "python3"
  },
  "language_info": {
   "codemirror_mode": {
    "name": "ipython",
    "version": 3
   },
   "file_extension": ".py",
   "mimetype": "text/x-python",
   "name": "python",
   "nbconvert_exporter": "python",
   "pygments_lexer": "ipython3",
   "version": "3.12.3"
  }
 },
 "nbformat": 4,
 "nbformat_minor": 2
}
